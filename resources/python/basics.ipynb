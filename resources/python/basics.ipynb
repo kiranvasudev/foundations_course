{
 "cells": [
  {
   "cell_type": "code",
   "execution_count": 18,
   "metadata": {
    "collapsed": true
   },
   "outputs": [],
   "source": [
    "#This is how to write a comment\n",
    "\n",
    "#Variables - Stores a piece of data with a name\n",
    "w = True\n",
    "x = 10\n",
    "\n",
    "#each character in the string is stored as a number\n",
    "y = \"Ten\"\n",
    "z = 10.0"
   ]
  },
  {
   "cell_type": "code",
   "execution_count": 11,
   "metadata": {
    "collapsed": true
   },
   "outputs": [],
   "source": [
    "#Using space to indent code\n",
    "def first_function():\n",
    "    print \"Hello World !\"\n",
    "    \n",
    "#first_function()"
   ]
  },
  {
   "cell_type": "code",
   "execution_count": 20,
   "metadata": {
    "collapsed": true
   },
   "outputs": [],
   "source": [
    "#'''This is how your write a multi line comment or '''\n",
    "\n",
    "#\"\"\" This way also works \"\"\""
   ]
  },
  {
   "cell_type": "code",
   "execution_count": 13,
   "metadata": {
    "collapsed": true
   },
   "outputs": [],
   "source": [
    "#Math - Addition, Subtraction, Division, Multiplication\n",
    "\n",
    "add = 10 + 20\n",
    "sub = add - 5\n",
    "mul = sub * add\n",
    "div = add / sub\n",
    "\n",
    "# This is how you use exponents (2^3)\n",
    "exponent = 2 ** 3\n",
    "\n",
    "#Modulo - gives the remainder after division\n",
    "modul = 3 % 2\n"
   ]
  },
  {
   "cell_type": "markdown",
   "metadata": {},
   "source": [
    "You've finished eating at a restaurant, and received this bill:\n",
    "\n",
    "Cost of meal: $65.50\n",
    "Restaurant tax: 14.25%\n",
    "Tip: 7.5%\n",
    "\n",
    "Calculate the overall cost of the meal (including tax)."
   ]
  },
  {
   "cell_type": "code",
   "execution_count": 1,
   "metadata": {
    "collapsed": false
   },
   "outputs": [
    {
     "name": "stdout",
     "output_type": "stream",
     "text": [
      "meal with tax 74.83375\n",
      "80.45\n"
     ]
    }
   ],
   "source": [
    "# Assign the variable total on line 8!\n",
    "\n",
    "meal = 65.50\n",
    "tax = 0.1425\n",
    "tip = 0.075\n",
    "\n",
    "#calculate price of meal after tax\n",
    "meal = meal + meal * tax\n",
    "print \"meal with tax\", meal\n",
    "\n",
    "#calculate total cost of meal after tip\n",
    "total = meal + meal * tip\n",
    "\n",
    "print \"%.2f\" % total"
   ]
  },
  {
   "cell_type": "code",
   "execution_count": 17,
   "metadata": {
    "collapsed": false
   },
   "outputs": [
    {
     "ename": "SyntaxError",
     "evalue": "invalid syntax (<ipython-input-17-82587a503b50>, line 2)",
     "output_type": "error",
     "traceback": [
      "\u001b[0;36m  File \u001b[0;32m\"<ipython-input-17-82587a503b50>\"\u001b[0;36m, line \u001b[0;32m2\u001b[0m\n\u001b[0;31m    'This isn't flying, this is falling with style'\u001b[0m\n\u001b[0m              ^\u001b[0m\n\u001b[0;31mSyntaxError\u001b[0m\u001b[0;31m:\u001b[0m invalid syntax\n"
     ]
    }
   ],
   "source": [
    "#Error using string\n",
    "'This isn't flying, this is falling with style'"
   ]
  },
  {
   "cell_type": "code",
   "execution_count": 24,
   "metadata": {
    "collapsed": false
   },
   "outputs": [
    {
     "name": "stdout",
     "output_type": "stream",
     "text": [
      "<type 'int'>\n",
      "<type 'str'>\n"
     ]
    }
   ],
   "source": [
    "example = \"Foundation Course\"\n",
    "len(example)\n",
    "\n",
    "#all text in lower case\n",
    "example.lower()\n",
    "\n",
    "#all text in upper case\n",
    "example.upper()\n",
    "\n",
    "#converts into string\n",
    "x = 12345\n",
    "print type(x)\n",
    "print type(str(x))"
   ]
  },
  {
   "cell_type": "code",
   "execution_count": 27,
   "metadata": {
    "collapsed": false
   },
   "outputs": [
    {
     "name": "stdout",
     "output_type": "stream",
     "text": [
      "How are you?\n"
     ]
    },
    {
     "ename": "TypeError",
     "evalue": "cannot concatenate 'str' and 'float' objects",
     "output_type": "error",
     "traceback": [
      "\u001b[0;31m---------------------------------------------------------------------------\u001b[0m",
      "\u001b[0;31mTypeError\u001b[0m                                 Traceback (most recent call last)",
      "\u001b[0;32m<ipython-input-27-e29b212da7a9>\u001b[0m in \u001b[0;36m<module>\u001b[0;34m()\u001b[0m\n\u001b[1;32m      2\u001b[0m \u001b[1;32mprint\u001b[0m \u001b[1;34m\"How \"\u001b[0m \u001b[1;33m+\u001b[0m \u001b[1;34m\"are \"\u001b[0m \u001b[1;33m+\u001b[0m \u001b[1;34m\"you?\"\u001b[0m\u001b[1;33m\u001b[0m\u001b[0m\n\u001b[1;32m      3\u001b[0m \u001b[1;33m\u001b[0m\u001b[0m\n\u001b[0;32m----> 4\u001b[0;31m \u001b[1;32mprint\u001b[0m \u001b[1;34m\"The value of pi is around \"\u001b[0m \u001b[1;33m+\u001b[0m \u001b[1;36m3.14\u001b[0m\u001b[1;33m\u001b[0m\u001b[0m\n\u001b[0m\u001b[1;32m      5\u001b[0m \u001b[1;33m\u001b[0m\u001b[0m\n\u001b[1;32m      6\u001b[0m \u001b[1;32mprint\u001b[0m \u001b[1;34m\"The value of pi is around \"\u001b[0m \u001b[1;33m+\u001b[0m \u001b[0mstr\u001b[0m\u001b[1;33m(\u001b[0m\u001b[1;36m3.14\u001b[0m\u001b[1;33m)\u001b[0m\u001b[1;33m\u001b[0m\u001b[0m\n",
      "\u001b[0;31mTypeError\u001b[0m: cannot concatenate 'str' and 'float' objects"
     ]
    }
   ],
   "source": [
    "#String Concatenation\n",
    "print \"How \" + \"are \" + \"you?\"\n",
    "\n",
    "print \"The value of pi is around \" + 3.14\n",
    "\n",
    "print \"The value of pi is around \" + str(3.14)"
   ]
  },
  {
   "cell_type": "code",
   "execution_count": 34,
   "metadata": {
    "collapsed": false
   },
   "outputs": [
    {
     "name": "stdout",
     "output_type": "stream",
     "text": [
      "Welcome to the Foundation Course.\n"
     ]
    }
   ],
   "source": [
    "x = \"Foundation\"\n",
    "y = \"Course\"\n",
    "\n",
    "print \"Welcome to the %s %s.\" % (x, y)"
   ]
  },
  {
   "cell_type": "markdown",
   "metadata": {},
   "source": [
    "#### Comparators\n",
    "\n",
    "Equal to (==)\n",
    "\n",
    "Not equal to (!=)\n",
    "\n",
    "Less than (<)\n",
    "\n",
    "Less than or equal to (<=)\n",
    "\n",
    "Greater than (>)\n",
    "\n",
    "Greater than or equal to (>=)"
   ]
  },
  {
   "cell_type": "markdown",
   "metadata": {},
   "source": [
    "### Boolean Operators\n",
    "------------------------      \n",
    "True and True is True\n",
    "\n",
    "True and False is False\n",
    "\n",
    "False and True is False\n",
    "\n",
    "False and False is False\n",
    "\n",
    "------------------------      \n",
    "\n",
    "True or True is True\n",
    "\n",
    "True or False is True\n",
    "\n",
    "False or True is True\n",
    "\n",
    "False or False is False\n",
    "\n",
    "------------------------      \n",
    "\n",
    "Not True is False\n",
    "\n",
    "Not False is True\n",
    "\n",
    "-----------------------\n",
    "\n",
    "## Precedence\n",
    "\n",
    "not > and > or unless you use parentheses ()"
   ]
  },
  {
   "cell_type": "code",
   "execution_count": 35,
   "metadata": {
    "collapsed": false
   },
   "outputs": [
    {
     "name": "stdout",
     "output_type": "stream",
     "text": [
      "False\n"
     ]
    }
   ],
   "source": [
    "bool_one = (2 <= 2) and \"Alpha\" == \"Bravo\"\n",
    "print bool_one"
   ]
  },
  {
   "cell_type": "code",
   "execution_count": 39,
   "metadata": {
    "collapsed": false
   },
   "outputs": [
    {
     "name": "stdout",
     "output_type": "stream",
     "text": [
      "Eight is less than nine!\n"
     ]
    }
   ],
   "source": [
    "if 8 < 9:\n",
    "    print \"Eight is less than nine!\"\n",
    "else:\n",
    "    print \"You are wrong !\""
   ]
  },
  {
   "cell_type": "code",
   "execution_count": 41,
   "metadata": {
    "collapsed": false
   },
   "outputs": [
    {
     "name": "stdout",
     "output_type": "stream",
     "text": [
      "-1\n",
      "0\n",
      "1\n"
     ]
    }
   ],
   "source": [
    "def check_this(answer):\n",
    "    if answer > 5:\n",
    "        return 1\n",
    "    elif answer < 5:          \n",
    "        return -1\n",
    "    else:\n",
    "        return 0\n",
    "    \n",
    "print check_this(4)\n",
    "print check_this(5)\n",
    "print check_this(6)"
   ]
  },
  {
   "cell_type": "markdown",
   "metadata": {},
   "source": [
    "#### Functions\n",
    "\n",
    "def function_name(argument):\n",
    "\n",
    "    statement 1\n",
    "\n",
    "    statement 2\n",
    "    \n",
    "    return (if needed)"
   ]
  },
  {
   "cell_type": "code",
   "execution_count": 45,
   "metadata": {
    "collapsed": false
   },
   "outputs": [
    {
     "name": "stdout",
     "output_type": "stream",
     "text": [
      "With tax: 74.833750\n",
      "With tip: 80.446281\n"
     ]
    }
   ],
   "source": [
    "def tax(bill):\n",
    "    \"\"\"Adds 14.25% tax.\"\"\"\n",
    "    bill = bill + bill * 0.1425\n",
    "    print \"With tax: %f\" % bill\n",
    "    return bill\n",
    "\n",
    "def tip(bill):\n",
    "    \"\"\"Adds 7.5% tip.\"\"\"\n",
    "    bill = bill+ bill * 0.075\n",
    "    print \"With tip: %f\" % bill\n",
    "    return bill\n",
    "    \n",
    "meal_cost = 65.50\n",
    "meal_with_tax = tax(meal_cost)\n",
    "meal_with_tip = tip(meal_with_tax)"
   ]
  },
  {
   "cell_type": "markdown",
   "metadata": {},
   "source": [
    "1. Write a function to find the square of a number or power of a number\n",
    "\n",
    "2. Write a function that prints a string"
   ]
  },
  {
   "cell_type": "code",
   "execution_count": 47,
   "metadata": {
    "collapsed": true
   },
   "outputs": [],
   "source": [
    "#Built in functions in python\n",
    "\n",
    "maximum = max(19999,2123,3789)\n",
    "\n",
    "minimum = min(112,253,343)\n",
    "\n",
    "absolute = abs(-100)\n",
    "\n",
    "var_type = type(absolute)"
   ]
  },
  {
   "cell_type": "code",
   "execution_count": 2,
   "metadata": {
    "collapsed": false
   },
   "outputs": [
    {
     "name": "stdout",
     "output_type": "stream",
     "text": [
      "[1, 2]\n",
      "[1, 2, 3, 4]\n",
      "[1, 2, 3, 4, 5]\n",
      "[1, 5, 2, 3, 4, 5]\n"
     ]
    }
   ],
   "source": [
    "#Lists are a datatype you can use to store a collection of different pieces of information \n",
    "\n",
    "my_list = [1,2,3,4]\n",
    "str_list = ['a','b','c','d']\n",
    "\n",
    "addition = my_list[0] + my_list[1]\n",
    "my_list.append(5)\n",
    "\n",
    "#slicing a list\n",
    "print my_list[0:2]\n",
    "print my_list[:4]\n",
    "\n",
    "print my_list\n",
    "my_list.insert(1, 5)\n",
    "print my_list"
   ]
  },
  {
   "cell_type": "code",
   "execution_count": 69,
   "metadata": {
    "collapsed": false
   },
   "outputs": [
    {
     "name": "stdout",
     "output_type": "stream",
     "text": [
      "[2, 3, 4, 5, 5]\n",
      "2\n",
      "3\n",
      "4\n",
      "5\n",
      "5\n"
     ]
    }
   ],
   "source": [
    "print my_list\n",
    "my_list.sort()\n",
    "for number in my_list:\n",
    "    print number"
   ]
  },
  {
   "cell_type": "code",
   "execution_count": 71,
   "metadata": {
    "collapsed": false
   },
   "outputs": [
    {
     "name": "stdout",
     "output_type": "stream",
     "text": [
      "104\n",
      "{'Me': 104, 'You': 105, 'Him': 70, 'her': 108}\n",
      "{'Me': 104, 'You': 105, 'Him': 70}\n"
     ]
    }
   ],
   "source": [
    "# A dictionary is similar to a list, but you access values by looking up a key instead of an index.\n",
    "\n",
    "blood_pressure = {'Me' : 104, 'You' : 105, 'Him' : 70}\n",
    "print blood_pressure['Me']\n",
    "\n",
    "blood_pressure['her'] = 108\n",
    "\n",
    "print blood_pressure\n",
    "del blood_pressure['her']\n",
    "print blood_pressure\n",
    "\n",
    "# can add a list inside a dictionary too !"
   ]
  },
  {
   "cell_type": "code",
   "execution_count": 95,
   "metadata": {
    "collapsed": true
   },
   "outputs": [],
   "source": [
    "# python uses objects\n",
    "#An object as a single data structure that contains data as well as functions; functions of objects are called methods\n",
    "\n",
    "class Animal(object):\n",
    "    def __init__(self, username):\n",
    "        pass"
   ]
  },
  {
   "cell_type": "code",
   "execution_count": 97,
   "metadata": {
    "collapsed": false
   },
   "outputs": [
    {
     "name": "stdout",
     "output_type": "stream",
     "text": [
      "Hello Kiran\n"
     ]
    }
   ],
   "source": [
    "class Foundation_Course(object):\n",
    "    def __init__(self, username):\n",
    "        self.name = username\n",
    "    \n",
    "    def method1(self):\n",
    "        print \"Hello \" + self.name\n",
    "    \n",
    "xyz = Foundation_Course(\"Kiran\")\n",
    "xyz.method1()"
   ]
  },
  {
   "cell_type": "code",
   "execution_count": 103,
   "metadata": {
    "collapsed": false
   },
   "outputs": [
    {
     "name": "stdout",
     "output_type": "stream",
     "text": [
      "Hello, Kiran\n",
      "Get back to work, Taylor!\n"
     ]
    }
   ],
   "source": [
    "#Inheritance\n",
    "\n",
    "class Employee(object):\n",
    "    def __init__(self, name):\n",
    "        self.name = name\n",
    "    def greet(self, other):\n",
    "        print \"Hello, %s\" % other.name\n",
    "\n",
    "class CEO(Employee):\n",
    "    def greet(self, other):\n",
    "        print \"Get back to work, %s!\" % other.name\n",
    "\n",
    "ceo = CEO(\"Kiran\")\n",
    "emp = Employee(\"Taylor\")\n",
    "\n",
    "#Overriding\n",
    "emp.greet(ceo)\n",
    "ceo.greet(emp)\n"
   ]
  },
  {
   "cell_type": "markdown",
   "metadata": {},
   "source": [
    "Create a class that represents customers in a bank with two methods. The first method should be called ‘withdraw’ \n",
    "\n",
    "and it should return the balance of the customer after a withdrawal has been made. The second method should be\n",
    "\n",
    "called ‘deposit’ and it should return the balance of the customer after a deposit has been made.\n",
    "\n",
    "• Hint 1: The constructor should take in two parameters, name and starting balance of the customer.\n",
    "\n",
    "• Hint 2: In the withdraw method, add an ‘if’ condition to check if there is sufficient balance in the account. If\n",
    "\n",
    "there isn’t, print a warning message for the customer stating that his balance will be negative."
   ]
  },
  {
   "cell_type": "code",
   "execution_count": 6,
   "metadata": {
    "collapsed": true
   },
   "outputs": [],
   "source": [
    "class Customer(object):\n",
    "    def __init__(self, name, balance):\n",
    "        self.name = name\n",
    "        self.balance = balance\n",
    "        \n",
    "    def withdraw(self, amount):\n",
    "        if self.balance > amount:\n",
    "            self.balance = self.balance - amount\n",
    "            print \"Balance is: \", self.balance\n",
    "        else:\n",
    "            print \"Balance is not sufficient\"\n",
    "        \n",
    "    def deposit(self, amount):\n",
    "        self.balance = self.balance + amount\n",
    "        print \"Balance is: \", self.balance"
   ]
  },
  {
   "cell_type": "code",
   "execution_count": 12,
   "metadata": {
    "collapsed": false
   },
   "outputs": [
    {
     "name": "stdout",
     "output_type": "stream",
     "text": [
      "Balance is not sufficient\n",
      "Balance is:  100100\n"
     ]
    }
   ],
   "source": [
    "kiran = Customer(\"Kiran\", 100000)\n",
    "kiran.withdraw(100000)\n",
    "kiran.deposit(100)"
   ]
  },
  {
   "cell_type": "code",
   "execution_count": 72,
   "metadata": {
    "collapsed": true
   },
   "outputs": [],
   "source": [
    "import math\n",
    "import random\n",
    "from math import sqrt\n",
    "import numpy as np\n",
    "import matplotlib.pyplot as plt\n",
    "import scipy"
   ]
  },
  {
   "cell_type": "code",
   "execution_count": null,
   "metadata": {
    "collapsed": true
   },
   "outputs": [],
   "source": [
    "Some important commands - range, np.linspace()"
   ]
  },
  {
   "cell_type": "code",
   "execution_count": 84,
   "metadata": {
    "collapsed": false
   },
   "outputs": [
    {
     "data": {
      "text/plain": [
       "0.3760955981130595"
      ]
     },
     "execution_count": 84,
     "metadata": {},
     "output_type": "execute_result"
    }
   ],
   "source": [
    "random.randint(1,100)\n",
    "random.random()"
   ]
  },
  {
   "cell_type": "code",
   "execution_count": 85,
   "metadata": {
    "collapsed": false
   },
   "outputs": [
    {
     "data": {
      "image/png": "[encoded data removed]",
      "text/plain": [
       "<matplotlib.figure.Figure at 0x7c767f0>"
      ]
     },
     "metadata": {},
     "output_type": "display_data"
    }
   ],
   "source": [
    "#plt.plot([1,2,3,4])\n",
    "#plt.plot([1, 2, 3, 4], [1, 4, 9, 16])\n",
    "plt.scatter([1, 2, 3, 4], [1, 4, 9, 16])\n",
    "plt.ylabel('some numbers')\n",
    "plt.show()"
   ]
  },
  {
   "cell_type": "code",
   "execution_count": null,
   "metadata": {
    "collapsed": true
   },
   "outputs": [],
   "source": []
  }
 ],
 "metadata": {
  "anaconda-cloud": {},
  "kernelspec": {
   "display_name": "Python [default]",
   "language": "python",
   "name": "python2"
  },
  "language_info": {
   "codemirror_mode": {
    "name": "ipython",
    "version": 2
   },
   "file_extension": ".py",
   "mimetype": "text/x-python",
   "name": "python",
   "nbconvert_exporter": "python",
   "pygments_lexer": "ipython2",
   "version": "2.7.12"
  }
 },
 "nbformat": 4,
 "nbformat_minor": 1
}
