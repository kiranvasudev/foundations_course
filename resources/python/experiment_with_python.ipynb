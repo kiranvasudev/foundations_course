{
 "cells": [
  {
   "cell_type": "markdown",
   "metadata": {
    "nbgrader": {
     "grade": false,
     "grade_id": "cell-ddd4aed577578d52",
     "locked": true,
     "schema_version": 1,
     "solution": false
    }
   },
   "source": [
    "# Python exercises\n",
    "\n",
    "## Briefing\n",
    "\n",
    "The goal of this assignment is for you to get used to python and the advantages of using libraries like numPy and matplotlib. Feel free to experiment with the libraries any way you like(you should have already done this by now). One of the main benefits of using numPy is to reduce the usage of loops, so work on that(minimize using loops as much as you can). \n",
    "\n",
    "Once you get the hang of doing that, understanding the language and the reducing the complexity of each problem becomes so much easier !  \n",
    "\n",
    "Most of the questions can be completed using functions/classes. This way, you can use different data as inputs and hence get different results. I suggest that you dont just work toward the assignment for the sake of completion, but to test your inquisitivity and expand your knowledge.\n",
    "\n",
    "I have not imported any of the libraries for you. Some of the libraries that you will be using in this notebook will be math, numpy, matplotlib and csv. Figure out how they are used and the benefits of using these libraries.\n",
    "\n",
    "There are <b>ONLY</b> 30 questions and some of them are super easy to do and some require you think about the question a little. Before you ask me a question for help, research about the your question and then tell me what you found and why you think does not work. I do not think the questions are too complicated to be solved. You just need to spend enough time on them.  \n",
    "\n",
    "Submission for this assignment is on Sunday, 10th September by midnight. To submit, <b>either print the page</b> in pdf format or you can also use the <b>'download as'</b> option in the <b>'file'</b> menu(you may face some errors). If you complete it before that time, let me know and maybe I can give you more work to do :P\n",
    "\n",
    "### Happy programming !"
   ]
  },
  {
   "cell_type": "code",
   "execution_count": null,
   "metadata": {
    "collapsed": true
   },
   "outputs": [],
   "source": [
    "# A good practice is to import all the libraries \n",
    "# at the start of the notebook rather than \n",
    "# at a specific cell somwhere at the bottom"
   ]
  },
  {
   "cell_type": "markdown",
   "metadata": {
    "nbgrader": {
     "grade": false,
     "grade_id": "cell-b659ae89eafaf165",
     "locked": true,
     "schema_version": 1,
     "solution": false
    }
   },
   "source": [
    "## 1\n",
    "\n",
    "Write a program which will find all such numbers which are divisible by 7 but are not a multiple of 5,\n",
    "between 2000 and 3200 (both included).\n",
    "The numbers obtained should be printed in a comma-separated sequence on a single line."
   ]
  },
  {
   "cell_type": "code",
   "execution_count": null,
   "metadata": {
    "collapsed": true
   },
   "outputs": [],
   "source": []
  },
  {
   "cell_type": "markdown",
   "metadata": {
    "nbgrader": {
     "grade": false,
     "grade_id": "cell-44c2df2aa789515d",
     "locked": true,
     "schema_version": 1,
     "solution": false
    }
   },
   "source": [
    "## 2\n",
    "Write a program which can compute the factorial of a given numbers.\n",
    "The results should be printed in a comma-separated sequence on a single line.\n",
    "Suppose the following input is supplied to the program:\n",
    "8\n",
    "Then, the output should be:\n",
    "40320"
   ]
  },
  {
   "cell_type": "code",
   "execution_count": null,
   "metadata": {
    "collapsed": true
   },
   "outputs": [],
   "source": []
  },
  {
   "cell_type": "markdown",
   "metadata": {
    "nbgrader": {
     "grade": false,
     "grade_id": "cell-3cf5d36fc09b77fc",
     "locked": true,
     "schema_version": 1,
     "solution": false
    }
   },
   "source": [
    "## 3\n",
    "With a given integral number n, write a program to generate a dictionary that contains (i, i*i) such that is an integral number between 1 and n (both included). and then the program should print the dictionary.\n",
    "Suppose the following input is supplied to the program:\n",
    "8\n",
    "Then, the output should be:\n",
    "{1: 1, 2: 4, 3: 9, 4: 16, 5: 25, 6: 36, 7: 49, 8: 64}\n"
   ]
  },
  {
   "cell_type": "code",
   "execution_count": null,
   "metadata": {
    "collapsed": true
   },
   "outputs": [],
   "source": []
  },
  {
   "cell_type": "markdown",
   "metadata": {
    "nbgrader": {
     "grade": false,
     "grade_id": "cell-ac22946d2b2ba722",
     "locked": true,
     "schema_version": 1,
     "solution": false
    }
   },
   "source": [
    "## 4\n",
    "Define a class which has at least two methods:\n",
    "getString: to get a string from console input\n",
    "printString: to print the string in upper case.\n",
    "Also please include simple test function to test the class methods.\n"
   ]
  },
  {
   "cell_type": "code",
   "execution_count": null,
   "metadata": {
    "collapsed": true
   },
   "outputs": [],
   "source": []
  },
  {
   "cell_type": "markdown",
   "metadata": {
    "nbgrader": {
     "grade": false,
     "grade_id": "cell-59366d167ad708b2",
     "locked": true,
     "schema_version": 1,
     "solution": false
    }
   },
   "source": [
    "## 5\n",
    "Write a program that calculates and prints the value according to the given formula:\n",
    "Q = Square root of [(2 * C * D)/H]\n",
    "Following are the fixed values of C and H:\n",
    "C is 50. H is 30.\n",
    "D is the variable whose values should be input to your program in a comma-separated sequence.\n",
    "Example\n",
    "Let us assume the following comma separated input sequence is given to the program:\n",
    "100,150,180\n",
    "The output of the program should be:\n",
    "18,22,24"
   ]
  },
  {
   "cell_type": "code",
   "execution_count": null,
   "metadata": {
    "collapsed": true
   },
   "outputs": [],
   "source": []
  },
  {
   "cell_type": "markdown",
   "metadata": {
    "nbgrader": {
     "grade": false,
     "grade_id": "cell-19d67c7623e3467b",
     "locked": true,
     "schema_version": 1,
     "solution": false
    }
   },
   "source": [
    "## 6\n",
    "Write a program which takes 2 digits, X,Y as input and generates a 2-dimensional array. The element value in the i-th row and j-th column of the array should be i*j.\n",
    "\n",
    "Note: i=0,1.., X-1; j=0,1,¡­Y-1. USE NUMPY.\n",
    "Example\n",
    "\n",
    "Suppose the following inputs are given to the program:\n",
    "\n",
    "3,5\n",
    "\n",
    "Then, the output of the program should be:\n",
    "\n",
    "[[0, 0, 0, 0, 0], [0, 1, 2, 3, 4], [0, 2, 4, 6, 8]] \n"
   ]
  },
  {
   "cell_type": "code",
   "execution_count": null,
   "metadata": {
    "collapsed": true
   },
   "outputs": [],
   "source": []
  },
  {
   "cell_type": "markdown",
   "metadata": {
    "nbgrader": {
     "grade": false,
     "grade_id": "cell-c7060975cc5b846d",
     "locked": true,
     "schema_version": 1,
     "solution": false
    }
   },
   "source": [
    "## 7\n",
    "Write a program that takes a comma separated sequence of words as input and prints the words in a comma-separated sequence after sorting them alphabetically.\n",
    "\n",
    "Suppose the following input is supplied to the program(<b>you do not have to use raw_input</b>):\n",
    "\n",
    "without,hello,bag,world\n",
    "\n",
    "Then, the output should be:\n",
    "\n",
    "bag,hello,without,world"
   ]
  },
  {
   "cell_type": "code",
   "execution_count": null,
   "metadata": {
    "collapsed": true
   },
   "outputs": [],
   "source": []
  },
  {
   "cell_type": "markdown",
   "metadata": {
    "nbgrader": {
     "grade": false,
     "grade_id": "cell-b7e1b304b664ff9a",
     "locked": true,
     "schema_version": 1,
     "solution": false
    }
   },
   "source": [
    "## 8\n",
    "\n",
    "Write a program that accepts a sequence of whitespace separated words as input and prints the words after removing all duplicate words and sorting them alphanumerically.\n",
    "\n",
    "Use the following input:\n",
    "\n",
    "hello world and practice makes perfect and hello world again\n",
    "\n",
    "Then, the output should be:\n",
    "\n",
    "again and hello makes perfect practice world\n"
   ]
  },
  {
   "cell_type": "code",
   "execution_count": null,
   "metadata": {
    "collapsed": true
   },
   "outputs": [],
   "source": []
  },
  {
   "cell_type": "markdown",
   "metadata": {
    "nbgrader": {
     "grade": false,
     "grade_id": "cell-2ded77f5fc992d2b",
     "locked": true,
     "schema_version": 1,
     "solution": false
    }
   },
   "source": [
    "## 9\n",
    "Write a program which takes a sequence of comma separated 4 digit binary numbers as an input and then check whether they are divisible by 5 or not. The numbers that are divisible by 5 are to be printed in a comma separated sequence.\n",
    "\n",
    "Input:\n",
    "0100,0011,1010,1001\n",
    "\n",
    "Then the output should be:\n",
    "1010\n"
   ]
  },
  {
   "cell_type": "code",
   "execution_count": null,
   "metadata": {
    "collapsed": true
   },
   "outputs": [],
   "source": []
  },
  {
   "cell_type": "markdown",
   "metadata": {
    "nbgrader": {
     "grade": false,
     "grade_id": "cell-63b7931ddcbb00a9",
     "locked": true,
     "schema_version": 1,
     "solution": false
    }
   },
   "source": [
    "## 10\n",
    "Write a program, which will find all such numbers between 1000 and 3000 (both included) such that each digit of the number is an even number. Print all the numbers as a list.\n"
   ]
  },
  {
   "cell_type": "code",
   "execution_count": null,
   "metadata": {
    "collapsed": true
   },
   "outputs": [],
   "source": []
  },
  {
   "cell_type": "markdown",
   "metadata": {
    "nbgrader": {
     "grade": false,
     "grade_id": "cell-2f7b19412a4295bb",
     "locked": true,
     "schema_version": 1,
     "solution": false
    }
   },
   "source": [
    "## 11\n",
    "Write a program that uses a sentence and calculates the number of letters and digits.\n",
    "\n",
    "Example input:\n",
    "hello world! 123\n",
    "\n",
    "Then, the output should be:\n",
    "\n",
    "LETTERS 10\n",
    "\n",
    "DIGITS 3\n"
   ]
  },
  {
   "cell_type": "code",
   "execution_count": null,
   "metadata": {
    "collapsed": true
   },
   "outputs": [],
   "source": []
  },
  {
   "cell_type": "markdown",
   "metadata": {
    "nbgrader": {
     "grade": false,
     "grade_id": "cell-30decddffc4f2107",
     "locked": true,
     "schema_version": 1,
     "solution": false
    }
   },
   "source": [
    "## 12\n",
    "Write a program that is input a sentence and calculates the number of upper case letters and lower case letters.\n",
    "\n",
    "Sample input:\n",
    "Hello world!\n",
    "\n",
    "Then, the output should be:\n",
    "\n",
    "UPPER CASE 1\n",
    "\n",
    "LOWER CASE 9"
   ]
  },
  {
   "cell_type": "code",
   "execution_count": null,
   "metadata": {
    "collapsed": true
   },
   "outputs": [],
   "source": []
  },
  {
   "cell_type": "markdown",
   "metadata": {
    "nbgrader": {
     "grade": false,
     "grade_id": "cell-3f25c878be4e8e43",
     "locked": true,
     "schema_version": 1,
     "solution": false
    }
   },
   "source": [
    "## 13\n",
    "Write a program which accepts a string from console and print the characters that have even indexes.\n",
    "\n",
    "Sample input: H1e2l3l4o5w6o7r8l9d\n",
    "\n",
    "Then, the output of the program should be:\n",
    "\n",
    "Helloworld\n"
   ]
  },
  {
   "cell_type": "code",
   "execution_count": null,
   "metadata": {
    "collapsed": true
   },
   "outputs": [],
   "source": []
  },
  {
   "cell_type": "markdown",
   "metadata": {
    "nbgrader": {
     "grade": false,
     "grade_id": "cell-7a17a394c74be0ee",
     "locked": true,
     "schema_version": 1,
     "solution": false
    }
   },
   "source": [
    "## 14\n",
    "Write a program which count and print the numbers of each character in a string.\n",
    "\n",
    "Sample input: abcdefgabc\n",
    "\n",
    "Then, the output of the program should be:\n",
    "\n",
    "a,2\n",
    "\n",
    "c,2\n",
    "\n",
    "b,2\n",
    "\n",
    "e,1\n",
    "\n",
    "d,1\n",
    "\n",
    "g,1\n",
    "\n",
    "f,1"
   ]
  },
  {
   "cell_type": "code",
   "execution_count": null,
   "metadata": {
    "collapsed": true
   },
   "outputs": [],
   "source": []
  },
  {
   "cell_type": "markdown",
   "metadata": {
    "nbgrader": {
     "grade": false,
     "grade_id": "cell-d739efd54735d910",
     "locked": true,
     "schema_version": 1,
     "solution": false
    }
   },
   "source": [
    "## 15\n",
    "Using the list as input \n",
    "\n",
    "[12,24,35,24,88,120,155,88,120,155]\n",
    "\n",
    "write a program to print this list after removing all duplicate values with original order reserved"
   ]
  },
  {
   "cell_type": "code",
   "execution_count": null,
   "metadata": {
    "collapsed": true
   },
   "outputs": [],
   "source": []
  },
  {
   "cell_type": "markdown",
   "metadata": {
    "nbgrader": {
     "grade": false,
     "grade_id": "cell-41b95de7ba372713",
     "locked": true,
     "schema_version": 1,
     "solution": false
    }
   },
   "source": [
    "## 16\n",
    "Using two lists as input, example, [1,3,6,78,35,55] and [12,24,35,24,88,120,155]\n",
    "\n",
    "Write a program to make a list whose elements are intersection of the above given lists.\n"
   ]
  },
  {
   "cell_type": "code",
   "execution_count": null,
   "metadata": {
    "collapsed": true
   },
   "outputs": [],
   "source": []
  },
  {
   "cell_type": "markdown",
   "metadata": {
    "nbgrader": {
     "grade": false,
     "grade_id": "cell-19092d4d73f643a9",
     "locked": true,
     "schema_version": 1,
     "solution": false
    }
   },
   "source": [
    "## 17\n",
    "By using the built in list functions, write a program to print the list(10 elements) after removing a value from the list. Using the same list, write a program to print the list after removing the 1th,5th,7th numbers(<b>not indices</b>).\n",
    "\n",
    "Example: \n",
    "\n",
    "List :[12,10,9,24,35,24,88,65,120,155]\n",
    "\n",
    "Remove : 24"
   ]
  },
  {
   "cell_type": "code",
   "execution_count": null,
   "metadata": {
    "collapsed": true
   },
   "outputs": [],
   "source": []
  },
  {
   "cell_type": "markdown",
   "metadata": {
    "nbgrader": {
     "grade": false,
     "grade_id": "cell-b7efca8ef42db94c",
     "locked": true,
     "schema_version": 1,
     "solution": false
    }
   },
   "source": [
    "## 18\n",
    "\n",
    "Write a program to generate all sentences(that contain the subject, verb and object) where subject is in list [\"I\", \"You\"] and verb is in [\"can code in\", \"love\"] and the object is in [\"Foundation Course\",\"Java, C++, Python\"].\n",
    "\n",
    "Example sentence:\n",
    "\n",
    "I love Foundation Course"
   ]
  },
  {
   "cell_type": "code",
   "execution_count": null,
   "metadata": {
    "collapsed": true
   },
   "outputs": [],
   "source": []
  },
  {
   "cell_type": "markdown",
   "metadata": {
    "nbgrader": {
     "grade": false,
     "grade_id": "cell-1b198bf49aac28b0",
     "locked": true,
     "schema_version": 1,
     "solution": false
    }
   },
   "source": [
    "## 19\n",
    "\n",
    "Please write a program to shuffle and print the list [2,3,9,6,7,1,5,10,8].\n",
    "\n",
    "Hint: Check for a library that has the 'shuffle' function or if you can do it by yourself, well and good :D"
   ]
  },
  {
   "cell_type": "code",
   "execution_count": null,
   "metadata": {
    "collapsed": true
   },
   "outputs": [],
   "source": []
  },
  {
   "cell_type": "markdown",
   "metadata": {
    "nbgrader": {
     "grade": false,
     "grade_id": "cell-86e528962b729d10",
     "locked": true,
     "schema_version": 1,
     "solution": false
    }
   },
   "source": [
    "## 20\n",
    "\n",
    "Write a program to print the running time of execution of \"1+1\" for 100 times.\n",
    "\n",
    "Hint: There are many ways to do this."
   ]
  },
  {
   "cell_type": "code",
   "execution_count": null,
   "metadata": {
    "collapsed": true
   },
   "outputs": [],
   "source": []
  },
  {
   "cell_type": "markdown",
   "metadata": {
    "nbgrader": {
     "grade": false,
     "grade_id": "cell-848c2901441b1996",
     "locked": true,
     "schema_version": 1,
     "solution": false
    }
   },
   "source": [
    "## 21\n",
    "\n",
    "Write a program to randomly print an int between 2 and 20 inclusive of 20.\n",
    "\n",
    "Run your code, and check if 20 is generated atleast once.\n"
   ]
  },
  {
   "cell_type": "code",
   "execution_count": null,
   "metadata": {
    "collapsed": true
   },
   "outputs": [],
   "source": []
  },
  {
   "cell_type": "markdown",
   "metadata": {
    "nbgrader": {
     "grade": false,
     "grade_id": "cell-236f42b6b3cbafa9",
     "locked": true,
     "schema_version": 1,
     "solution": false
    }
   },
   "source": [
    "## 22\n",
    "Write a program to randomly generate a list that contains numbers in a range in such a way that you print n even numbers followed by n odd numbers, in the range.\n",
    "\n",
    "Example:\n",
    "\n",
    "Range: 1-10\n",
    "\n",
    "n:2\n",
    "\n",
    "Output:\n",
    "\n",
    "[2,4,1,3,6,8,5,7,10,9]\n"
   ]
  },
  {
   "cell_type": "code",
   "execution_count": null,
   "metadata": {
    "collapsed": true
   },
   "outputs": [],
   "source": []
  },
  {
   "cell_type": "markdown",
   "metadata": {
    "nbgrader": {
     "grade": false,
     "grade_id": "cell-b0e0f965950a60a9",
     "locked": true,
     "schema_version": 1,
     "solution": false
    }
   },
   "source": [
    "## 23\n",
    "A robot moves in a plane starting from the original point (0,0). The robot can move toward UP, DOWN, LEFT and RIGHT with given number of steps. The trace of robot movement is shown as the following:\n",
    "\n",
    "UP 5\n",
    "\n",
    "DOWN 3\n",
    "\n",
    "LEFT 3\n",
    "\n",
    "RIGHT 2\n",
    "\n",
    "The numbers after the direction are the number of steps moved by the robot. Write a program to compute the distance from current position after a sequence of movement and original point. If the distance is a float, then just print the nearest integer.\n",
    "Example:\n",
    "\n",
    "If the following tuples are given as input to the program:\n",
    "\n",
    "UP 5\n",
    "\n",
    "DOWN 3\n",
    "\n",
    "LEFT 3\n",
    "\n",
    "RIGHT 2\n",
    "\n",
    "Then, the output of the program should be:\n",
    "\n",
    "2\n",
    "\n",
    "<b> DO NOT USE raw_input </b>"
   ]
  },
  {
   "cell_type": "code",
   "execution_count": null,
   "metadata": {
    "collapsed": true
   },
   "outputs": [],
   "source": []
  },
  {
   "cell_type": "markdown",
   "metadata": {
    "nbgrader": {
     "grade": false,
     "grade_id": "cell-91f49375b4030cf6",
     "locked": true,
     "schema_version": 1,
     "solution": false
    }
   },
   "source": [
    "## 25\n",
    "\n",
    "Write a program to sort the (name, age, height) tuples by ascending order where name is string, age and height are numbers. Make provision for the sort criteria, which is:\n",
    "* Sort based on name\n",
    "\n",
    "* Then sort based on age;\n",
    "\n",
    "* Then sort by score.\n",
    "\n",
    "The priority is that <b>name > age > score</b>\n",
    "\n",
    "If the following tuples are used as input to the program:\n",
    "\n",
    "Tom,19,80\n",
    "\n",
    "John,20,90\n",
    "\n",
    "Jony,17,91\n",
    "\n",
    "Jony,17,93\n",
    "\n",
    "Json,21,85\n",
    "\n",
    "Then, the output of the program should be:\n",
    "\n",
    "[('John', '20', '90'), ('Jony', '17', '91'), ('Jony', '17', '93'), ('Json', '21', '85'), ('Tom', '19', '80')]"
   ]
  },
  {
   "cell_type": "code",
   "execution_count": null,
   "metadata": {
    "collapsed": true
   },
   "outputs": [],
   "source": []
  },
  {
   "cell_type": "markdown",
   "metadata": {
    "nbgrader": {
     "grade": false,
     "grade_id": "cell-ce15eae62f210311",
     "locked": true,
     "schema_version": 1,
     "solution": false
    }
   },
   "source": [
    "## 26\n",
    "Write a program that squares each odd number in a list.\n",
    "\n",
    "Suppose the following input is supplied to the program:\n",
    "\n",
    "1,2,3,4,5,6,7,8,9\n",
    "\n",
    "Then, the output should be:\n",
    "\n",
    "1,2,9,4,25,6,49,8,81"
   ]
  },
  {
   "cell_type": "code",
   "execution_count": null,
   "metadata": {
    "collapsed": true
   },
   "outputs": [],
   "source": []
  },
  {
   "cell_type": "markdown",
   "metadata": {
    "nbgrader": {
     "grade": false,
     "grade_id": "cell-1a8e72501e50e454",
     "locked": true,
     "schema_version": 1,
     "solution": false
    }
   },
   "source": [
    "## 27\n",
    "\n",
    "Create two random arrays of equal length and plot the data as an XY graph(label the axes and try different plot styles?)."
   ]
  },
  {
   "cell_type": "code",
   "execution_count": null,
   "metadata": {
    "collapsed": true
   },
   "outputs": [],
   "source": []
  },
  {
   "cell_type": "markdown",
   "metadata": {
    "nbgrader": {
     "grade": false,
     "grade_id": "cell-15158438fd2d9665",
     "locked": true,
     "schema_version": 1,
     "solution": false
    }
   },
   "source": [
    "## 28\n",
    "\n",
    "Plot a sine function with a dashed line"
   ]
  },
  {
   "cell_type": "code",
   "execution_count": null,
   "metadata": {
    "collapsed": true
   },
   "outputs": [],
   "source": []
  },
  {
   "cell_type": "markdown",
   "metadata": {
    "collapsed": true,
    "nbgrader": {
     "grade": false,
     "grade_id": "cell-d05a3894c6c5208d",
     "locked": true,
     "schema_version": 1,
     "solution": false
    }
   },
   "source": [
    "## 29\n",
    "Plot an exp function"
   ]
  },
  {
   "cell_type": "code",
   "execution_count": null,
   "metadata": {
    "collapsed": true
   },
   "outputs": [],
   "source": []
  },
  {
   "cell_type": "markdown",
   "metadata": {
    "collapsed": true,
    "nbgrader": {
     "grade": false,
     "grade_id": "cell-15959625ca72daa4",
     "locked": true,
     "schema_version": 1,
     "solution": false
    }
   },
   "source": [
    "## 30\n",
    "Load the csv file using Python and use the data in the csv file to plot a graph with the x axis containing the day of the month and the y axis containing the time worked out.\n",
    "\n",
    "The csv file is of the format:\n",
    "\"2012, Mar-01\", run, 2, 25\n",
    "\n",
    "\"2012, Mar-03\", bike, 10, 55\n",
    "\n",
    "\"2012, Mar-06\", bike, 5, 20\n",
    "\n",
    "Lets take the first row. We start with the date of the workout, the kind of workout, how many miles you travelled and how much time you spent in minutes\n",
    "\n",
    "You need to import the [exercise_data.csv](\\\\:workout.csv)\n",
    "\n",
    "Hints:\n",
    "\n",
    "* Import the file and check its content. Note that the content may be different on different rows, adjust your algorithm accordingly(<b>BETTER HINT ;) -> check for the letter that each row starts with</b>).\n",
    "\n",
    "* Extract the data you want from the csv according to the format that you want. Example: \"2012, Mar-01\" could be of type [datetime](https://docs.python.org/2/library/datetime.html)\n",
    "\n",
    "Your result should look a little like this:\n",
    "![Answer](result.png)"
   ]
  },
  {
   "cell_type": "code",
   "execution_count": null,
   "metadata": {
    "collapsed": true
   },
   "outputs": [],
   "source": []
  }
 ],
 "metadata": {
  "celltoolbar": "Create Assignment",
  "kernelspec": {
   "display_name": "Python 3",
   "language": "python",
   "name": "python3"
  },
  "language_info": {
   "codemirror_mode": {
    "name": "ipython",
    "version": 3
   },
   "file_extension": ".py",
   "mimetype": "text/x-python",
   "name": "python",
   "nbconvert_exporter": "python",
   "pygments_lexer": "ipython3",
   "version": "3.4.3"
  }
 },
 "nbformat": 4,
 "nbformat_minor": 2
}
