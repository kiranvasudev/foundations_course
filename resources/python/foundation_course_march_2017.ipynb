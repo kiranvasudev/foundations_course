{
 "cells": [
  {
   "cell_type": "markdown",
   "metadata": {},
   "source": [
    "# Foundation Course - March 2017\n",
    "## Introduction to Python for Mathematics"
   ]
  },
  {
   "cell_type": "markdown",
   "metadata": {},
   "source": [
    "#### 1. Imports\n",
    "\n",
    "Syntax: \n",
    "\n",
    ">**import** library\n",
    "   \n",
    ">**import** library **as** my_name\n",
    "   \n",
    ">**import** library.subpackage **as** my_name\n",
    "   \n",
    ">**from** library **import** subpackage **as** my_name\n",
    "\n",
    "##### 1.1 Exercises\n",
    "**a)** Import the library *math*\n",
    "\n",
    "**b)** Import the library *numpy* and give it the name *np*\n",
    "\n",
    "**c)** Import the linear algebra subpackage of *numpy*, called *linalg* and name it *LA*. Choose one of the ways presented above.\n",
    "\n",
    "**d)** Import the plotting subpackage of *matplotlib*, called *pyplot* and name it *plt*. Try the other way."
   ]
  },
  {
   "cell_type": "code",
   "execution_count": 1,
   "metadata": {
    "collapsed": true
   },
   "outputs": [],
   "source": [
    "# Add your imports in this cell"
   ]
  },
  {
   "cell_type": "markdown",
   "metadata": {},
   "source": [
    "#### 2. Printing\n",
    "\n",
    "Some examples:"
   ]
  },
  {
   "cell_type": "code",
   "execution_count": 44,
   "metadata": {
    "collapsed": false
   },
   "outputs": [
    {
     "name": "stdout",
     "output_type": "stream",
     "text": [
      "Welcome to the foundation course!\n",
      "We hope you have fun\n",
      "This year is 2017 !\n",
      "The first seven digits of PI are 3.1415927, the first three are 3.142\n",
      "We can use strings and decimal numbers like 143. Notice how there are no decimal digits.\n"
     ]
    }
   ],
   "source": [
    "print 'Welcome to the foundation course!'\n",
    "print \"We hope you have fun\"\n",
    "year = 2017\n",
    "print 'This year is', year, '!'\n",
    "pi = 3.14159265359\n",
    "print 'The first seven digits of PI are %.7f, the first three are %.3f' % (pi, pi)\n",
    "print 'We can use %s and decimal numbers like %d. Notice how there are no decimal digits.' % ('strings', 143.753)"
   ]
  },
  {
   "cell_type": "markdown",
   "metadata": {},
   "source": [
    "##### 2.1 Exercises\n",
    "**a)** Print your name\n",
    "\n",
    "**b)** Print eulers constant with 8 digits after the decimal point. (Use 'np.exp()')\n",
    "\n",
    "**c)** Define some numbers and strings and print all of them in one line. Which way do you prefer?"
   ]
  },
  {
   "cell_type": "code",
   "execution_count": 42,
   "metadata": {
    "collapsed": false
   },
   "outputs": [],
   "source": [
    "# Do your printing here"
   ]
  },
  {
   "cell_type": "markdown",
   "metadata": {},
   "source": [
    "#### 3. Functions\n",
    "\n",
    "Syntax:\n",
    "\n",
    "> **def** name**(arg0, arg1, arg2, ...):**\n",
    "\n",
    "Some examples:"
   ]
  },
  {
   "cell_type": "code",
   "execution_count": 47,
   "metadata": {
    "collapsed": false
   },
   "outputs": [
    {
     "name": "stdout",
     "output_type": "stream",
     "text": [
      "hello\n",
      "5\n"
     ]
    }
   ],
   "source": [
    "def print_hello():\n",
    "    print 'hello'\n",
    "    \n",
    "def add(x, y):\n",
    "    return x + y\n",
    "\n",
    "print_hello()\n",
    "print add(2, 3)"
   ]
  },
  {
   "cell_type": "markdown",
   "metadata": {},
   "source": [
    "##### Lambda expressions\n",
    "Syntax:\n",
    "\n",
    "> name = **lambda arg0, arg1, arg2... : return_statement **\n",
    "\n",
    "Some examples:"
   ]
  },
  {
   "cell_type": "code",
   "execution_count": 2,
   "metadata": {
    "collapsed": false
   },
   "outputs": [
    {
     "name": "stdout",
     "output_type": "stream",
     "text": [
      "3^3 = 27\n",
      "3*2 + 5*8 = 46\n"
     ]
    }
   ],
   "source": [
    "cubed = lambda x : x ** 3\n",
    "fun = lambda x, y : 3*x + 5*y\n",
    "\n",
    "print '3^3 =', cubed(3)\n",
    "print '3*2 + 5*8 = %d' % fun(2,8)"
   ]
  },
  {
   "cell_type": "markdown",
   "metadata": {},
   "source": [
    "##### 3.1 Exercises\n",
    "**a)** Write a function that returns the square of x + y\n",
    "\n",
    "**b)** Write a function that returns the square root of x + y. Use the sqrt function from numpy or math.\n",
    "\n",
    "**c)** Repeat with lambda expressions\n",
    "\n",
    "**d)** Can you use lambda expressions to make the print_hello function above?\n",
    "\n",
    "**e)** Write a function that takes two functions and a number as an argument. The output should be the product of both functions applied to the number."
   ]
  },
  {
   "cell_type": "code",
   "execution_count": 58,
   "metadata": {
    "collapsed": false
   },
   "outputs": [],
   "source": [
    "# Write your functions here"
   ]
  },
  {
   "cell_type": "markdown",
   "metadata": {},
   "source": [
    "#### 4. Lists, arrays, ranges and the map function\n",
    "\n",
    "The simplest form is a list:\n",
    "\n",
    ">my_list = **[**1,2,3,4,5**]**\n",
    "\n",
    "The numpy array is more powerful:\n",
    ">my_array = **np.array([**1,2,3,4,5**])**\n",
    "\n",
    "We can create a range of numbers:\n",
    ">my_range = **range(start,end,step_size)**\n",
    "\n",
    ">my_range = **range(end)**\n",
    "\n",
    "Numpy provides us with the ability to use float step sizes:\n",
    ">my_range = **np.arange(start,end,step_size)**\n",
    "\n",
    "If we want to create a certain number of equidistant values in a range, we can use numpys linspace:\n",
    ">my_numbers = **np.linspace(start,end,num_of_values)**\n",
    "\n",
    "We often want to apply a function to each element of an array / a list. This can be done by using the map function.\n",
    ">my_values = **map(function_name, array)**\n",
    "\n",
    "Some examples:"
   ]
  },
  {
   "cell_type": "code",
   "execution_count": 3,
   "metadata": {
    "collapsed": false
   },
   "outputs": [
    {
     "name": "stdout",
     "output_type": "stream",
     "text": [
      "[1 2 3]\n",
      "[0, 1, 2, 3, 4]\n",
      "[-5, -3, -1, 1, 3, 5]\n",
      "[ 0.   0.1  0.2  0.3  0.4  0.5  0.6  0.7  0.8  0.9]\n",
      "[  0.    2.5   5.    7.5  10. ]\n",
      "[0, 1, 8, 27, 64]\n"
     ]
    }
   ],
   "source": [
    "import numpy as np\n",
    "\n",
    "print np.array([1,2,3])\n",
    "print range(5)\n",
    "print range(-5,7,2)\n",
    "print np.arange(0,1,0.1)\n",
    "print np.linspace(0,10,5)\n",
    "print map(cubed, range(5))"
   ]
  },
  {
   "cell_type": "markdown",
   "metadata": {},
   "source": [
    "##### 4.1 Exercises\n",
    "**a)** Create an array containing the numbers from 1 to 10 inclusive. Try with all presented ways. What are the differences?\n",
    "\n",
    "**b)** Now print the square root of all those numbers.\n",
    "\n",
    "**c)** Use map and lambda expressions to print the square of the odd numbers from 3 to 20. Then print the sum of the output."
   ]
  },
  {
   "cell_type": "code",
   "execution_count": null,
   "metadata": {
    "collapsed": true
   },
   "outputs": [],
   "source": [
    "# Your code here"
   ]
  },
  {
   "cell_type": "markdown",
   "metadata": {},
   "source": [
    "#### 5. Plotting\n",
    "\n",
    "If you work on data, you often want to display your results.\n",
    "\n",
    "Make sure you imported the *pyplot* subpackage from the *matplotlib* library.\n",
    "\n",
    "We will consider only 2D plots here. There are two different ways a plot can be displayed. In a new window or in a jupyter notebook cell. The standard way is to use a new window. To switch you can add one of the following commands after your imports.\n",
    "\n",
    "For plots in a cell:\n",
    ">%matplotlib inline\n",
    "\n",
    "For plots in a new window\n",
    ">%matplotlib qt\n",
    "\n",
    "A simple example of a plot is given below:"
   ]
  },
  {
   "cell_type": "code",
   "execution_count": 41,
   "metadata": {
    "collapsed": false
   },
   "outputs": [
    {
     "data": {
      "image/png": "[encoded data removed]",
      "text/plain": [
       "<matplotlib.figure.Figure at 0x6d7dc88>"
      ]
     },
     "metadata": {},
     "output_type": "display_data"
    }
   ],
   "source": [
    "import matplotlib.pyplot as plt\n",
    "%matplotlib inline\n",
    "\n",
    "# x and y coordinates of points\n",
    "x = [0, 1, 2, 3, 4, 5]\n",
    "y = [0, 1, 4, 9, 16, 25]\n",
    "\n",
    "# Plot the points\n",
    "plt.scatter(x, y)\n",
    "\n",
    "# Display the plot\n",
    "plt.show()"
   ]
  },
  {
   "cell_type": "code",
   "execution_count": 78,
   "metadata": {
    "collapsed": false
   },
   "outputs": [
    {
     "data": {
      "image/png": "[encoded data removed]",
      "text/plain": [
       "<matplotlib.figure.Figure at 0x715de10>"
      ]
     },
     "metadata": {},
     "output_type": "display_data"
    }
   ],
   "source": [
    "# x and y coordinates of points\n",
    "x = [0, 1, 2, 3, 4, 5]\n",
    "y = [0, 1, 4, 9, 16, 25]\n",
    "\n",
    "# Plot the points as a line\n",
    "plt.plot(x, y)\n",
    "\n",
    "plt.show()"
   ]
  },
  {
   "cell_type": "markdown",
   "metadata": {},
   "source": [
    "#### Labels, titles, legends, colors, markers\n",
    "\n",
    "We can add a lot of additional imformation to our plot. The following example shows some of those."
   ]
  },
  {
   "cell_type": "code",
   "execution_count": 80,
   "metadata": {
    "collapsed": false
   },
   "outputs": [
    {
     "data": {
      "text/plain": [
       "[]"
      ]
     },
     "execution_count": 80,
     "metadata": {},
     "output_type": "execute_result"
    },
    {
     "data": {
      "image/png": "[encoded data removed]",
      "text/plain": [
       "<matplotlib.figure.Figure at 0x402df28>"
      ]
     },
     "metadata": {},
     "output_type": "display_data"
    }
   ],
   "source": [
    "# x and y coordinates of points\n",
    "x = [0, 1, 2, 3, 4, 5]\n",
    "y = [0, 1, 4, 9, 16, 25]\n",
    "\n",
    "plt.title('Squares')\n",
    "# Different markers and colors can be found in the documentation\n",
    "plt.scatter(x, y, color='red', marker='o', label='my squares')\n",
    "plt.xlabel('The x axis')\n",
    "plt.ylabel('The y axis')\n",
    "# Create the legend so the label for the data is displayed\n",
    "plt.legend()\n",
    "plt.plot()"
   ]
  },
  {
   "cell_type": "markdown",
   "metadata": {},
   "source": [
    "#### 5.1 Exercises\n",
    "\n",
    "**a)** Make a plot of the function f(x) = x/sqrt(x) in the range from 0 to 100. (Hint: use map to create the y values)\n",
    "\n",
    "**b)** How can you increase the number of points?\n",
    "\n",
    "**c)** Add a title, labels for the x and y axis and a legend to the plot.\n",
    "\n",
    "**d)** Plot the function g(x) = x/8 of all even numbers from 0 to 100 in the same plot. Use a different color and experiment with different markers ('+', '^', ...). Make sure to add a label.\n",
    "\n",
    "**e)** What happens if you add the command **plt.axis('equal')** before displaying the plot?\n",
    "\n",
    "**f)** Try **%matplotlib qt** instead of **%matplotlib inline**\n",
    "\n",
    "**g)** Try using LaTeX syntax for one of the labels. Change the label for the first function to $x/\\sqrt{x}$.\n",
    "\n",
    "Use the following LaTeX snippet for this.\n",
    "\n",
    "    $x\\sqrt{x}$"
   ]
  },
  {
   "cell_type": "code",
   "execution_count": null,
   "metadata": {
    "collapsed": true
   },
   "outputs": [],
   "source": [
    "# Your plot here"
   ]
  },
  {
   "cell_type": "markdown",
   "metadata": {},
   "source": [
    "#### 6. Linear Algebra - Matrices and Vectors\n",
    "\n",
    "Numpy provides the linear algebra package *linalg*. Make sure you imported it as *LA*.\n",
    "\n",
    "First we'll look at how to create matrices and vectors.\n",
    "\n",
    "Numpy provides two basic ways to do this. The first is the numpy array (as presented in a previous section). The second is the numpy matrix.\n",
    "\n",
    "Matrix vector and matrix matrix multiplications can be done in two different ways, depending on if you use numpy arrays or matrices.\n",
    "\n",
    "A few simple examples are given below:"
   ]
  },
  {
   "cell_type": "code",
   "execution_count": 18,
   "metadata": {
    "collapsed": false
   },
   "outputs": [
    {
     "name": "stdout",
     "output_type": "stream",
     "text": [
      "[[1 2 3]\n",
      " [4 5 6]\n",
      " [7 8 9]]\n",
      "---------\n",
      "[[1 2 3]\n",
      " [4 5 6]\n",
      " [7 8 9]]\n",
      "\n",
      "[3 2 1] \n",
      "---------\n",
      "[[3]\n",
      " [2]\n",
      " [1]]\n",
      "\n",
      "[10 28 46]\n",
      "\n",
      "[[10]\n",
      " [28]\n",
      " [46]]\n",
      "\n",
      "[[ 30  36  42]\n",
      " [ 66  81  96]\n",
      " [102 126 150]]\n",
      "\n",
      "[[ 30  36  42]\n",
      " [ 66  81  96]\n",
      " [102 126 150]]\n"
     ]
    }
   ],
   "source": [
    "import numpy.linalg as LA\n",
    "\n",
    "# Defining matrices and vectors\n",
    "A = np.array([[1,2,3],[4,5,6],[7,8,9]])\n",
    "B = np.matrix([[1,2,3],[4,5,6],[7,8,9]])\n",
    "x = np.array([3,2,1])\n",
    "y = np.matrix([[3],[2],[1]])\n",
    "\n",
    "# Printing\n",
    "print A\n",
    "print '---------'\n",
    "print B\n",
    "print\n",
    "print x, '\\n---------\\n', y\n",
    "\n",
    "# Matrix vector multiplication\n",
    "# The numpy array way\n",
    "print\n",
    "print np.dot(A,x)\n",
    "\n",
    "# The numpy matrix way (notice how the multiplication is more intuitive)\n",
    "print\n",
    "print B*y\n",
    "\n",
    "# Matrix matrix multiplication\n",
    "print\n",
    "print np.dot(A,A)\n",
    "\n",
    "print\n",
    "print B*B"
   ]
  },
  {
   "cell_type": "markdown",
   "metadata": {},
   "source": [
    "#### 6.1 Exercises\n",
    "\n",
    "**a)** Create a 3 x 2 matrix and a vector. Multiply both\n",
    "\n",
    "**b)** Try to multiply the matrix with itself. (Hint: use the transpose of the matrix, T)\n",
    "\n",
    "**c)** Try with both the numpy array and the numpy matrix way"
   ]
  },
  {
   "cell_type": "code",
   "execution_count": null,
   "metadata": {
    "collapsed": true
   },
   "outputs": [],
   "source": [
    "# Your code here"
   ]
  },
  {
   "cell_type": "markdown",
   "metadata": {},
   "source": [
    "#### 7. Linear Algebra - Norms, Determinants and Inverse\n",
    "\n",
    "We can calculate a lot of things with vectors and matrices.\n",
    "\n",
    "The norm of a vector is its length. It can be calculated with the *linalg* function *norm()* from the *numpy* package.\n",
    "\n",
    "Determinants of a square matrix can be calculated by using the *linalg* function *det()*.\n",
    "\n",
    "The inverse of a matrix is the solution to the equation:\n",
    "\n",
    "$A * B = I$, where $A$ is the original matrix, $B$ the inverse and $I$ the identity matrix. We denote the inverse by $A^{-1}$.\n",
    "\n",
    "It can be calculate with the *linalg* function *inv()*. Not every square matrix is invertable. For a matrix to be invertible, the determinant can't be 0.\n",
    "\n",
    "#### 7.1 Exercises\n",
    "\n",
    "**a)** Create a three dimensional vector $x$. Calculate the length of the vector.\n",
    "\n",
    "**b)** How can you scale the vector to have a length of 1?\n",
    "\n",
    "**c)** Calculate the determinant of the matrix $A = \\begin{pmatrix} 1 & 2 & 3 \\\\ 0 & 4 & 5 \\\\ 1 & 0 & 6 \\end{pmatrix}$\n",
    "\n",
    "**d)** Calculate the inverse of $A$. Verify by calculating $A * A^{-1}$. You should get the identity matrix.\n",
    "\n",
    "**e)** Consider the matrix $B = \\begin{pmatrix} 1 & 2 & 3 \\\\ 4 & 5 & 6 \\\\ 5 & 7 & 9\\end{pmatrix}$. Is this matrix invertible?"
   ]
  },
  {
   "cell_type": "code",
   "execution_count": null,
   "metadata": {
    "collapsed": true
   },
   "outputs": [],
   "source": [
    "# Your code here"
   ]
  },
  {
   "cell_type": "markdown",
   "metadata": {},
   "source": [
    "#### 8. Linear Algebra - Eigenvectors and Eigenvalues\n",
    "\n",
    "Calculating eigenvectors and eigenvalues is a common task. For this we use the functions *eig* from the package *linalg*.\n",
    "\n",
    "This functions returns both the eigenvalues and the eigenvectors.\n",
    "\n",
    "An example is given below."
   ]
  },
  {
   "cell_type": "code",
   "execution_count": 24,
   "metadata": {
    "collapsed": false
   },
   "outputs": [
    {
     "name": "stdout",
     "output_type": "stream",
     "text": [
      "[  1.61168440e+01  -1.11684397e+00  -1.30367773e-15]\n",
      "\n",
      "[[-0.23197069 -0.78583024  0.40824829]\n",
      " [-0.52532209 -0.08675134 -0.81649658]\n",
      " [-0.8186735   0.61232756  0.40824829]]\n",
      "\n",
      "[[-0.23197069]\n",
      " [-0.52532209]\n",
      " [-0.8186735 ]]\n"
     ]
    }
   ],
   "source": [
    "B = np.matrix([[1, 2, 3], [4, 5, 6], [7, 8, 9]])\n",
    "\n",
    "eigenval, eigenvec = LA.eig(B)\n",
    "\n",
    "print eigenval\n",
    "print \n",
    "print eigenvec\n",
    "print\n",
    "# Each column of eigenvec represents an eigenvector\n",
    "# To display just the first column of a matrix or array, use [:,column_nr]\n",
    "print eigenvec[:, 0]"
   ]
  },
  {
   "cell_type": "markdown",
   "metadata": {},
   "source": [
    "#### 8.1 Exercises\n",
    "\n",
    "**a)** Create the matrix $A = \\begin{pmatrix} -2 & -4 & 2\\\\ -2 & 1 & 2 \\\\ 4 & 2 & 5\\end{pmatrix}$\n",
    "\n",
    "**b)** Calculate the eigenvalues and eigenvectors. Print each eigenvalue with the corresponding eigenvector\n",
    "\n",
    "**c)** Create the matrix $B = \\begin{pmatrix} 2 & 2 \\\\ 5 & -1 \\end{pmatrix}$\n",
    "\n",
    "**d)** Plot the vector $x = \\begin{pmatrix} \\frac{1}{\\sqrt{2}} \\\\ \\frac{1}{\\sqrt{2}} \\end{pmatrix}$\n",
    "\n",
    "**e)** Multiply $B$ with $x$ and plot the resulting vector in the same plot. Is $x$ and eigenvector? Please try to argue why. (Hint: Plot the vector as a line from $(0,0)$ to $(\\frac{1}{\\sqrt{2}},\\frac{1}{\\sqrt{2}})$)\n",
    "\n",
    "**f)** Calculate the eigenvalues and eigenvectors of $B$ and verfiy your results from **e)**\n",
    "\n",
    "**g)** Calculate the length of the vector $y$ = $B*x$ (use the function *norm* from the *linalg* package). What do you notice?"
   ]
  },
  {
   "cell_type": "code",
   "execution_count": 52,
   "metadata": {
    "collapsed": false
   },
   "outputs": [],
   "source": [
    "# Your code here"
   ]
  },
  {
   "cell_type": "markdown",
   "metadata": {},
   "source": [
    "#### 9. Linear Algebra - Rotation matrices\n",
    "\n",
    "We've learned about what a matrix vector multiplication means geometrically.\n",
    "\n",
    "Consider the two dimensional space $\\mathbb{R}^2$. Lets say we want to rotate a vector around the $z$-axis by $\\alpha$ degrees. Then the corresponding rotation matrix (counter clockwise) is defined as:\n",
    "\n",
    "$R(\\alpha) = \\begin{pmatrix} cos(\\alpha) & -sin(\\alpha) \\\\ sin(\\alpha) & cos(\\alpha) \\end{pmatrix}$\n",
    "\n",
    "In Python we use radians. To convert an angle from radians to degrees and vice versa we can use the *numpy* functions *deg2rad()* and *rad2deg()*.\n",
    "\n",
    "In the three dimensional space $\\mathbb{R}^3$, we can rotate around the $x$, $y$ and $z$ axis. This is done by using the following rotation matrices:\n",
    "\n",
    "$R_x(\\alpha) = \\begin{pmatrix} 1 & 0 & 0 \\\\ 0 & cos(\\alpha) & -sin(\\alpha) \\\\ 0 & sin(\\alpha) & cos(\\alpha) \\end{pmatrix}$\n",
    "\n",
    "$R_y(\\alpha) = \\begin{pmatrix} cos(\\alpha) & 0 & sin(\\alpha) \\\\ 0 & 1 & 0 \\\\ -sin(\\alpha) & 0 & cos(\\alpha) \\end{pmatrix}$\n",
    "\n",
    "$R_z(\\alpha) = \\begin{pmatrix} cos(\\alpha) & -sin(\\alpha) & 0 \\\\ sin(\\alpha) & cos(\\alpha) & 0\\\\ 0 & 0 & 1 \\end{pmatrix}$\n",
    "\n",
    "#### 9.1 Exercises\n",
    "\n",
    "**a)** Create a matrix $R_1$ that rotates a vector by $30°$.\n",
    "\n",
    "**b)** Verify by plotting a vector and the result of the matrix vector multiplication. (Hint: Use *plt.axis('equal')* to make sure the axes of the plot have the same scale)\n",
    "\n",
    "**c)** Does the multiplication change the length of the vector?\n",
    "\n",
    "**d)** Create a matrix $R_2$ that rotates a vector by $15°$. Multiply $R_1$ with $R_2$ to get $R_3$.\n",
    "\n",
    "**e)** Multiply a vector with the new matrix $R_3$. Which result do you expect? Verify by plotting.\n",
    "\n",
    "**f)** Create a three dimensional matrix that rotates by $20°$ around the $x$-axis and by $50°$ around the $z$-axis."
   ]
  },
  {
   "cell_type": "code",
   "execution_count": 72,
   "metadata": {
    "collapsed": false
   },
   "outputs": [],
   "source": [
    "# Your code here\n",
    "\n"
   ]
  }
 ],
 "metadata": {
  "anaconda-cloud": {},
  "kernelspec": {
   "display_name": "Python [Root]",
   "language": "python",
   "name": "Python [Root]"
  },
  "language_info": {
   "codemirror_mode": {
    "name": "ipython",
    "version": 2
   },
   "file_extension": ".py",
   "mimetype": "text/x-python",
   "name": "python",
   "nbconvert_exporter": "python",
   "pygments_lexer": "ipython2",
   "version": "2.7.12"
  }
 },
 "nbformat": 4,
 "nbformat_minor": 0
}
